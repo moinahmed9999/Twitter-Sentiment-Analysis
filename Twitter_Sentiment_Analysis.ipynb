{
  "nbformat": 4,
  "nbformat_minor": 0,
  "metadata": {
    "colab": {
      "name": "Twitter Sentiment Analysis.ipynb",
      "provenance": [],
      "collapsed_sections": [
        "y8EQq5SOglNS",
        "ezz-JdCYgzPU",
        "XrvP75H3ifRP",
        "JS2JoEWjQJvR",
        "jtZdbojvGDHp",
        "pVx5qxByGUcb",
        "jTiHiBxqGsPe",
        "hlFWIAWQH8Dy",
        "j7Q0XYUVm8_D"
      ]
    },
    "kernelspec": {
      "display_name": "Python 3",
      "language": "python",
      "name": "python3"
    },
    "language_info": {
      "codemirror_mode": {
        "name": "ipython",
        "version": 3
      },
      "file_extension": ".py",
      "mimetype": "text/x-python",
      "name": "python",
      "nbconvert_exporter": "python",
      "pygments_lexer": "ipython3",
      "version": "3.7.0"
    },
    "accelerator": "GPU"
  },
  "cells": [
    {
      "cell_type": "markdown",
      "metadata": {
        "id": "HNqmq78sJzHi"
      },
      "source": [
        "Twitter Sentiment Analysis\n",
        "Moin Ahmed"
      ]
    },
    {
      "cell_type": "markdown",
      "metadata": {
        "id": "y8EQq5SOglNS"
      },
      "source": [
        "# Imports"
      ]
    },
    {
      "cell_type": "code",
      "metadata": {
        "id": "KstkxfqW9fhX",
        "colab": {
          "base_uri": "https://localhost:8080/"
        },
        "outputId": "06fcf17b-e78d-41de-adcd-34f5b6156918"
      },
      "source": [
        "import numpy as np\n",
        "import pandas as pd\n",
        "pd.set_option(\"display.max_colwidth\", 200)\n",
        "\n",
        "import matplotlib.pyplot as plt\n",
        "%matplotlib inline\n",
        "\n",
        "import nltk\n",
        "from nltk.stem.porter import *\n",
        "\n",
        "!pip install emoji --upgrade\n",
        "import emoji\n",
        "\n",
        "import re,string\n",
        "\n",
        "from sklearn.feature_extraction.text import TfidfVectorizer\n",
        "from textblob import TextBlob\n",
        "\n",
        "from sklearn import metrics\n",
        "from sklearn.metrics import classification_report, confusion_matrix\n",
        "from sklearn.model_selection import train_test_split\n",
        "\n",
        "import warnings\n",
        "warnings.filterwarnings(\"ignore\")"
      ],
      "execution_count": null,
      "outputs": [
        {
          "output_type": "stream",
          "text": [
            "Requirement already up-to-date: emoji in /usr/local/lib/python3.7/dist-packages (1.2.0)\n"
          ],
          "name": "stdout"
        }
      ]
    },
    {
      "cell_type": "code",
      "metadata": {
        "colab": {
          "base_uri": "https://localhost:8080/"
        },
        "id": "6-GpyljK93rs",
        "outputId": "f247a8ee-0f47-4983-81b6-fcb9f836db98"
      },
      "source": [
        "nltk.download('twitter_samples')"
      ],
      "execution_count": null,
      "outputs": [
        {
          "output_type": "stream",
          "text": [
            "[nltk_data] Downloading package twitter_samples to /root/nltk_data...\n",
            "[nltk_data]   Package twitter_samples is already up-to-date!\n"
          ],
          "name": "stdout"
        },
        {
          "output_type": "execute_result",
          "data": {
            "text/plain": [
              "True"
            ]
          },
          "metadata": {
            "tags": []
          },
          "execution_count": 2
        }
      ]
    },
    {
      "cell_type": "markdown",
      "metadata": {
        "id": "ezz-JdCYgzPU"
      },
      "source": [
        "# Preprocessing"
      ]
    },
    {
      "cell_type": "code",
      "metadata": {
        "id": "31P5MgHI9fhX"
      },
      "source": [
        "from nltk.corpus import twitter_samples\n",
        "\n",
        "pos_tweets = twitter_samples.strings('positive_tweets.json')\n",
        "neg_tweets = twitter_samples.strings('negative_tweets.json')\n",
        "\n",
        "pos_df = pd.DataFrame(pos_tweets, columns = ['tweet'])\n",
        "\n",
        "neg_df = pd.DataFrame(neg_tweets, columns = ['tweet'])"
      ],
      "execution_count": null,
      "outputs": []
    },
    {
      "cell_type": "markdown",
      "metadata": {
        "id": "XFjF7Fdn1S4h"
      },
      "source": [
        "Replace Emojis and Emoticons with"
      ]
    },
    {
      "cell_type": "code",
      "metadata": {
        "id": "U88H1Wx91R2e"
      },
      "source": [
        "def load_dict_smileys():\n",
        "    return {\n",
        "        \":‑)\":\"smiley\", \":-]\":\"smiley\", \":-3\":\"smiley\", \":->\":\"smiley\", \"8-)\":\"smiley\", \":-}\":\"smiley\",\n",
        "        \":)\":\"smiley\", \":]\":\"smiley\", \":3\":\"smiley\", \":>\":\"smiley\", \"8)\":\"smiley\", \":}\":\"smiley\", \":o)\":\"smiley\", \n",
        "        \":c)\":\"smiley\", \":^)\":\"smiley\", \"=]\":\"smiley\", \"=)\":\"smiley\", \":-))\":\"smiley\", \":‑D\":\"smiley\", \"8‑D\":\"smiley\",\n",
        "        \"x‑D\":\"smiley\", \"X‑D\":\"smiley\", \":D\":\"smiley\", \"8D\":\"smiley\", \"xD\":\"smiley\", \"XD\":\"smiley\",\n",
        "        \":‑(\":\"sad\", \":‑c\":\"sad\", \":‑<\":\"sad\", \":‑[\":\"sad\", \":(\":\"sad\", \":c\":\"sad\", \":<\":\"sad\", \":[\":\"sad\",\n",
        "        \":-||\":\"sad\", \">:[\":\"sad\", \":{\":\"sad\", \":@\":\"sad\", \">:(\":\"sad\", \":'‑(\":\"sad\", \":'(\":\"sad\",\n",
        "        \":‑P\":\"playful\", \"X‑P\":\"playful\", \"x‑p\":\"playful\", \":‑p\":\"playful\", \":‑Þ\":\"playful\", \":‑þ\":\"playful\",\n",
        "        \":‑b\":\"playful\", \":P\":\"playful\", \"XP\":\"playful\", \"xp\":\"playful\", \":p\":\"playful\", \":Þ\":\"playful\",\n",
        "        \":þ\":\"playful\", \":b\":\"playful\",\n",
        "        \"<3\":\"love\"\n",
        "        }"
      ],
      "execution_count": null,
      "outputs": []
    },
    {
      "cell_type": "code",
      "metadata": {
        "id": "300TQICm2XgH"
      },
      "source": [
        "def replace_emoji_emoticon(tweet):\n",
        "    SMILEY = load_dict_smileys()  \n",
        "    words = tweet.split()\n",
        "    tweet = \" \".join([SMILEY[word] if word in SMILEY else word for word in words])\n",
        "    tweet = emoji.demojize(tweet)\n",
        "    return tweet\n",
        "\n",
        "pos_df['tweet'] = pos_df['tweet'].apply(replace_emoji_emoticon)\n",
        "neg_df['tweet'] = neg_df['tweet'].apply(replace_emoji_emoticon)"
      ],
      "execution_count": null,
      "outputs": []
    },
    {
      "cell_type": "markdown",
      "metadata": {
        "id": "23v2FJYhsajs"
      },
      "source": [
        "Remove hyperlinks, hashtags and username"
      ]
    },
    {
      "cell_type": "code",
      "metadata": {
        "id": "Gbe3LQbeqV7I"
      },
      "source": [
        "def strip_links(text):\n",
        "    link_regex = re.compile(\n",
        "        '((https?):((//)|(\\\\\\\\))+([\\w\\d:#@%/;$()~_?\\+-=\\\\\\.&](#!)?)*)',\n",
        "        re.DOTALL)\n",
        "    links = re.findall(link_regex, text)\n",
        "    for link in links:\n",
        "        text = text.replace(link[0], ', ')    \n",
        "    return text\n",
        "\n",
        "def strip_all_entities(text):\n",
        "    entity_prefixes = ['@','#']\n",
        "    for separator in  string.punctuation:\n",
        "        if separator not in entity_prefixes :\n",
        "            text = text.replace(separator,' ')\n",
        "    words = []\n",
        "    for word in text.split():\n",
        "        word = word.strip()\n",
        "        if word:\n",
        "            if word[0] not in entity_prefixes:\n",
        "                words.append(word)\n",
        "    return ' '.join(words)\n",
        "\n",
        "pos_df['tweet'] = pos_df['tweet'].apply(strip_links)\n",
        "pos_df['tweet'] = pos_df['tweet'].apply(strip_all_entities)\n",
        "\n",
        "neg_df['tweet'] = neg_df['tweet'].apply(strip_links)\n",
        "neg_df['tweet'] = neg_df['tweet'].apply(strip_all_entities)"
      ],
      "execution_count": null,
      "outputs": []
    },
    {
      "cell_type": "markdown",
      "metadata": {
        "id": "O-gbGOMYwJEu"
      },
      "source": [
        "Remove RT"
      ]
    },
    {
      "cell_type": "code",
      "metadata": {
        "id": "VTZd0agowKX5"
      },
      "source": [
        "pos_df['tweet'] = pos_df['tweet'].str.replace('RT','')\n",
        "neg_df['tweet'] = neg_df['tweet'].str.replace('RT','')"
      ],
      "execution_count": null,
      "outputs": []
    },
    {
      "cell_type": "markdown",
      "metadata": {
        "id": "nwM3Y66GhZG1"
      },
      "source": [
        "Convert to lowercase"
      ]
    },
    {
      "cell_type": "code",
      "metadata": {
        "id": "GsChJiPk9fhY"
      },
      "source": [
        "pos_df['tweet'] = pos_df['tweet'].str.lower()\n",
        "neg_df['tweet'] = neg_df['tweet'].str.lower()"
      ],
      "execution_count": null,
      "outputs": []
    },
    {
      "cell_type": "markdown",
      "metadata": {
        "id": "M7PJrA0KpqlF"
      },
      "source": [
        "Remove Punctuations"
      ]
    },
    {
      "cell_type": "code",
      "metadata": {
        "id": "BLxV8_pjpsbl"
      },
      "source": [
        "pos_df['tweet'] = pos_df['tweet'].str.replace('[^\\w\\s]','')\n",
        "neg_df['tweet'] = neg_df['tweet'].str.replace('[^\\w\\s]','')"
      ],
      "execution_count": null,
      "outputs": []
    },
    {
      "cell_type": "markdown",
      "metadata": {
        "id": "RZccZwzmveCC"
      },
      "source": [
        "Stop Word Removal"
      ]
    },
    {
      "cell_type": "code",
      "metadata": {
        "colab": {
          "base_uri": "https://localhost:8080/"
        },
        "id": "C2axXpXkvgH6",
        "outputId": "d897047e-c2c2-4dd2-e13b-11bb6afeff9c"
      },
      "source": [
        "nltk.download('stopwords')\n",
        "from nltk.corpus import stopwords\n",
        "STOPWORDS = set(stopwords.words('english'))\n",
        "\n",
        "def stopwords(text):\n",
        "    return \" \".join(\n",
        "        [word for word in str(text).split() if word not in STOPWORDS])\n",
        "\n",
        "pos_df['tweet'] = pos_df['tweet'].apply(stopwords)\n",
        "neg_df['tweet'] = neg_df['tweet'].apply(stopwords)"
      ],
      "execution_count": null,
      "outputs": [
        {
          "output_type": "stream",
          "text": [
            "[nltk_data] Downloading package stopwords to /root/nltk_data...\n",
            "[nltk_data]   Package stopwords is already up-to-date!\n"
          ],
          "name": "stdout"
        }
      ]
    },
    {
      "cell_type": "markdown",
      "metadata": {
        "id": "DK0ntswphulM"
      },
      "source": [
        "Lemmatization"
      ]
    },
    {
      "cell_type": "code",
      "metadata": {
        "colab": {
          "base_uri": "https://localhost:8080/"
        },
        "id": "j2GtQWOS9fha",
        "outputId": "fcadabaf-b221-476a-9b02-c5bdac540ce8"
      },
      "source": [
        "nltk.download('wordnet')\n",
        "\n",
        "from nltk.tokenize import TweetTokenizer\n",
        "from nltk.stem import WordNetLemmatizer \n",
        "lemmatizer = WordNetLemmatizer() \n",
        "\n",
        "def stem_tweet(tweet):\n",
        "    tokenizer = TweetTokenizer(preserve_case=False, strip_handles=True, \n",
        "                               reduce_len=True)\n",
        "    tweet_tokens = tokenizer.tokenize(tweet)\n",
        "\n",
        "    words = []\n",
        "    for word in tweet_tokens:\n",
        "        stem_word = lemmatizer.lemmatize(word)\n",
        "        words.append(stem_word)\n",
        "    \n",
        "    return ' '.join([word for word in words])\n",
        "\n",
        "pos_df['tweet'] = pos_df['tweet'].apply(stem_tweet)\n",
        "neg_df['tweet'] = neg_df['tweet'].apply(stem_tweet)"
      ],
      "execution_count": null,
      "outputs": [
        {
          "output_type": "stream",
          "text": [
            "[nltk_data] Downloading package wordnet to /root/nltk_data...\n",
            "[nltk_data]   Package wordnet is already up-to-date!\n"
          ],
          "name": "stdout"
        }
      ]
    },
    {
      "cell_type": "markdown",
      "metadata": {
        "id": "XrvP75H3ifRP"
      },
      "source": [
        "# Balancing and Scoring"
      ]
    },
    {
      "cell_type": "markdown",
      "metadata": {
        "id": "tqTmF7kukFoD"
      },
      "source": [
        "Calculate Polarity"
      ]
    },
    {
      "cell_type": "code",
      "metadata": {
        "id": "hkxtAilflBXw"
      },
      "source": [
        "def calculate_polarity(df):\n",
        "    sentiment_objects = [TextBlob(tweet) for tweet in df['tweet']]\n",
        "    sentiment_values = [[str(tweet), tweet.sentiment.polarity] \n",
        "                        for tweet in sentiment_objects]\n",
        "    sentiment_df = pd.DataFrame(sentiment_values, columns=[\"tweet\", \"polarity\"])\n",
        "    return sentiment_df"
      ],
      "execution_count": null,
      "outputs": []
    },
    {
      "cell_type": "code",
      "metadata": {
        "id": "L5P2o_0N9fha"
      },
      "source": [
        "pos_df = calculate_polarity(pos_df)\n",
        "neg_df = calculate_polarity(neg_df)"
      ],
      "execution_count": null,
      "outputs": []
    },
    {
      "cell_type": "markdown",
      "metadata": {
        "id": "Cf-FYI5gikCX"
      },
      "source": [
        "Score the classes"
      ]
    },
    {
      "cell_type": "code",
      "metadata": {
        "id": "df9CsFA8mEYP"
      },
      "source": [
        "def calculate_score(df):\n",
        "    score = []\n",
        "    for i, row in df.iterrows():\n",
        "        if row['polarity'] >= 0.5:\n",
        "            score.append(2)\n",
        "        if row['polarity'] > 0 and row['polarity'] < 0.5:\n",
        "            score.append(1)\n",
        "        if row['polarity'] == 0:\n",
        "            score.append(0)\n",
        "        if row['polarity'] >= -0.5 and row['polarity'] < 0:\n",
        "            score.append(-1)\n",
        "        if row['polarity'] >= -1 and row['polarity'] < -0.5:\n",
        "            score.append(-2)\n",
        "    df['score'] = score\n",
        "    return df"
      ],
      "execution_count": null,
      "outputs": []
    },
    {
      "cell_type": "code",
      "metadata": {
        "id": "TjEJYaq4mjH2"
      },
      "source": [
        "pos_df = calculate_score(pos_df)\n",
        "neg_df = calculate_score(neg_df)"
      ],
      "execution_count": null,
      "outputs": []
    },
    {
      "cell_type": "code",
      "metadata": {
        "colab": {
          "base_uri": "https://localhost:8080/"
        },
        "id": "xju_1GpNorqu",
        "outputId": "d74bb867-6b08-40d5-b078-965006a2ea19"
      },
      "source": [
        "pos_df['score'].value_counts()"
      ],
      "execution_count": null,
      "outputs": [
        {
          "output_type": "execute_result",
          "data": {
            "text/plain": [
              " 0    2067\n",
              " 1    1465\n",
              " 2    1151\n",
              "-1     283\n",
              "-2      34\n",
              "Name: score, dtype: int64"
            ]
          },
          "metadata": {
            "tags": []
          },
          "execution_count": 17
        }
      ]
    },
    {
      "cell_type": "code",
      "metadata": {
        "colab": {
          "base_uri": "https://localhost:8080/"
        },
        "id": "70gWavz2ovwb",
        "outputId": "a63a3c08-f921-454e-f4bd-a74485fa0373"
      },
      "source": [
        "neg_df['score'].value_counts()"
      ],
      "execution_count": null,
      "outputs": [
        {
          "output_type": "execute_result",
          "data": {
            "text/plain": [
              "-1    3279\n",
              " 0     849\n",
              " 1     549\n",
              "-2     218\n",
              " 2     105\n",
              "Name: score, dtype: int64"
            ]
          },
          "metadata": {
            "tags": []
          },
          "execution_count": 18
        }
      ]
    },
    {
      "cell_type": "code",
      "metadata": {
        "colab": {
          "base_uri": "https://localhost:8080/",
          "height": 71
        },
        "id": "smS97H-icINN",
        "outputId": "fae66ba2-1c3c-4983-8310-dc983d46fa64"
      },
      "source": [
        "fig, ax = plt.subplots(figsize=(6, 6))\n",
        "\n",
        "pos_df['score'].hist(bins=5, ax=ax, color=\"purple\")"
      ],
      "execution_count": null,
      "outputs": [
        {
          "output_type": "execute_result",
          "data": {
            "text/plain": [
              "<matplotlib.axes._subplots.AxesSubplot at 0x7f252b956390>"
            ]
          },
          "metadata": {
            "tags": []
          },
          "execution_count": 19
        },
        {
          "output_type": "display_data",
          "data": {
            "image/png": "[encoded data removed]",
            "text/plain": [
              "<Figure size 432x432 with 1 Axes>"
            ]
          },
          "metadata": {
            "tags": [],
            "needs_background": "light"
          }
        }
      ]
    },
    {
      "cell_type": "code",
      "metadata": {
        "colab": {
          "base_uri": "https://localhost:8080/",
          "height": 71
        },
        "id": "AEtRDbjDpUqU",
        "outputId": "b26d4b89-d8e8-4113-b111-b99205430539"
      },
      "source": [
        "fig, ax = plt.subplots(figsize=(6, 6))\n",
        "\n",
        "neg_df['score'].hist(bins=5, ax=ax, color=\"purple\")"
      ],
      "execution_count": null,
      "outputs": [
        {
          "output_type": "execute_result",
          "data": {
            "text/plain": [
              "<matplotlib.axes._subplots.AxesSubplot at 0x7f2523a835d0>"
            ]
          },
          "metadata": {
            "tags": []
          },
          "execution_count": 20
        },
        {
          "output_type": "display_data",
          "data": {
            "image/png": "[encoded data removed]",
            "text/plain": [
              "<Figure size 432x432 with 1 Axes>"
            ]
          },
          "metadata": {
            "tags": [],
            "needs_background": "light"
          }
        }
      ]
    },
    {
      "cell_type": "code",
      "metadata": {
        "id": "l_ZKGg8k9fhb"
      },
      "source": [
        "df = pd.concat([pos_df,neg_df])"
      ],
      "execution_count": null,
      "outputs": []
    },
    {
      "cell_type": "code",
      "metadata": {
        "colab": {
          "base_uri": "https://localhost:8080/",
          "height": 1000
        },
        "id": "wpfW22Q1DBDy",
        "outputId": "57458382-1adf-4fa9-c112-b79bcc030ac5"
      },
      "source": [
        "df"
      ],
      "execution_count": null,
      "outputs": [
        {
          "output_type": "execute_result",
          "data": {
            "text/html": [
              "<div>\n",
              "<style scoped>\n",
              "    .dataframe tbody tr th:only-of-type {\n",
              "        vertical-align: middle;\n",
              "    }\n",
              "\n",
              "    .dataframe tbody tr th {\n",
              "        vertical-align: top;\n",
              "    }\n",
              "\n",
              "    .dataframe thead th {\n",
              "        text-align: right;\n",
              "    }\n",
              "</style>\n",
              "<table border=\"1\" class=\"dataframe\">\n",
              "  <thead>\n",
              "    <tr style=\"text-align: right;\">\n",
              "      <th></th>\n",
              "      <th>tweet</th>\n",
              "      <th>polarity</th>\n",
              "      <th>score</th>\n",
              "    </tr>\n",
              "  </thead>\n",
              "  <tbody>\n",
              "    <tr>\n",
              "      <th>0</th>\n",
              "      <td>inte paris top engaged member community week smiley</td>\n",
              "      <td>0.500000</td>\n",
              "      <td>2</td>\n",
              "    </tr>\n",
              "    <tr>\n",
              "      <th>1</th>\n",
              "      <td>hey james odd please call contact centre 02392441234 able assist smiley many thanks</td>\n",
              "      <td>0.258333</td>\n",
              "      <td>1</td>\n",
              "    </tr>\n",
              "    <tr>\n",
              "      <th>2</th>\n",
              "      <td>listen last night smiley bleed amazing track scotland</td>\n",
              "      <td>0.300000</td>\n",
              "      <td>1</td>\n",
              "    </tr>\n",
              "    <tr>\n",
              "      <th>3</th>\n",
              "      <td>congrats smiley</td>\n",
              "      <td>0.000000</td>\n",
              "      <td>0</td>\n",
              "    </tr>\n",
              "    <tr>\n",
              "      <th>4</th>\n",
              "      <td>yeaaah yipppy accnt verified rqst succeed got blue tick mark fb profile smiley 15 day</td>\n",
              "      <td>0.000000</td>\n",
              "      <td>0</td>\n",
              "    </tr>\n",
              "    <tr>\n",
              "      <th>...</th>\n",
              "      <td>...</td>\n",
              "      <td>...</td>\n",
              "      <td>...</td>\n",
              "    </tr>\n",
              "    <tr>\n",
              "      <th>4995</th>\n",
              "      <td>wanna change avi usanele sad</td>\n",
              "      <td>-0.500000</td>\n",
              "      <td>-1</td>\n",
              "    </tr>\n",
              "    <tr>\n",
              "      <th>4996</th>\n",
              "      <td>puppy broke foot sad</td>\n",
              "      <td>-0.500000</td>\n",
              "      <td>-1</td>\n",
              "    </tr>\n",
              "    <tr>\n",
              "      <th>4997</th>\n",
              "      <td>jaebum baby picture</td>\n",
              "      <td>0.000000</td>\n",
              "      <td>0</td>\n",
              "    </tr>\n",
              "    <tr>\n",
              "      <th>4998</th>\n",
              "      <td>mr ahmad maslan cook sad</td>\n",
              "      <td>-0.500000</td>\n",
              "      <td>-1</td>\n",
              "    </tr>\n",
              "    <tr>\n",
              "      <th>4999</th>\n",
              "      <td>hull supporter expecting misserable week</td>\n",
              "      <td>0.000000</td>\n",
              "      <td>0</td>\n",
              "    </tr>\n",
              "  </tbody>\n",
              "</table>\n",
              "<p>10000 rows × 3 columns</p>\n",
              "</div>"
            ],
            "text/plain": [
              "                                                                                      tweet  ...  score\n",
              "0                                       inte paris top engaged member community week smiley  ...      2\n",
              "1       hey james odd please call contact centre 02392441234 able assist smiley many thanks  ...      1\n",
              "2                                     listen last night smiley bleed amazing track scotland  ...      1\n",
              "3                                                                           congrats smiley  ...      0\n",
              "4     yeaaah yipppy accnt verified rqst succeed got blue tick mark fb profile smiley 15 day  ...      0\n",
              "...                                                                                     ...  ...    ...\n",
              "4995                                                           wanna change avi usanele sad  ...     -1\n",
              "4996                                                                   puppy broke foot sad  ...     -1\n",
              "4997                                                                    jaebum baby picture  ...      0\n",
              "4998                                                               mr ahmad maslan cook sad  ...     -1\n",
              "4999                                               hull supporter expecting misserable week  ...      0\n",
              "\n",
              "[10000 rows x 3 columns]"
            ]
          },
          "metadata": {
            "tags": []
          },
          "execution_count": 22
        }
      ]
    },
    {
      "cell_type": "code",
      "metadata": {
        "colab": {
          "base_uri": "https://localhost:8080/"
        },
        "id": "ScEyfTKT9fhb",
        "outputId": "903b8ba0-ae31-42c9-adca-baff8d9c1bd4"
      },
      "source": [
        "df['score'].value_counts()"
      ],
      "execution_count": null,
      "outputs": [
        {
          "output_type": "execute_result",
          "data": {
            "text/plain": [
              "-1    3562\n",
              " 0    2916\n",
              " 1    2014\n",
              " 2    1256\n",
              "-2     252\n",
              "Name: score, dtype: int64"
            ]
          },
          "metadata": {
            "tags": []
          },
          "execution_count": 23
        }
      ]
    },
    {
      "cell_type": "markdown",
      "metadata": {
        "id": "JS2JoEWjQJvR"
      },
      "source": [
        "# Split Dataset"
      ]
    },
    {
      "cell_type": "code",
      "metadata": {
        "id": "o8opMnRs9fhb"
      },
      "source": [
        "tfidf_vectorizer = TfidfVectorizer(max_df=0.75, min_df=5, max_features=10000, \n",
        "                                 stop_words=\"english\", ngram_range=(1,3))\n",
        "X = tfidf_vectorizer.fit_transform(df['tweet'])"
      ],
      "execution_count": null,
      "outputs": []
    },
    {
      "cell_type": "code",
      "metadata": {
        "id": "MEBlqvH19fhb"
      },
      "source": [
        "X_train, X_test, Y_train, Y_test = train_test_split(X, df['score'], test_size=0.3, \n",
        "                                                    random_state=5)"
      ],
      "execution_count": null,
      "outputs": []
    },
    {
      "cell_type": "markdown",
      "metadata": {
        "id": "jtZdbojvGDHp"
      },
      "source": [
        "# Naive Bayes"
      ]
    },
    {
      "cell_type": "code",
      "metadata": {
        "id": "IVnNuMXl9fhc",
        "colab": {
          "base_uri": "https://localhost:8080/"
        },
        "outputId": "f8b4807e-963d-410e-c3fe-f3621da68a72"
      },
      "source": [
        "from sklearn.naive_bayes import MultinomialNB\n",
        "\n",
        "MNB = MultinomialNB()\n",
        "MNB.fit(X_train, Y_train)"
      ],
      "execution_count": null,
      "outputs": [
        {
          "output_type": "execute_result",
          "data": {
            "text/plain": [
              "MultinomialNB(alpha=1.0, class_prior=None, fit_prior=True)"
            ]
          },
          "metadata": {
            "tags": []
          },
          "execution_count": 26
        }
      ]
    },
    {
      "cell_type": "code",
      "metadata": {
        "colab": {
          "base_uri": "https://localhost:8080/"
        },
        "id": "88AuhRav9fhc",
        "outputId": "c95ae7ff-a2ad-4300-c0df-860bf32649f9"
      },
      "source": [
        "pred = MNB.predict(X_test)\n",
        "accuracy_score = metrics.accuracy_score(pred, Y_test)\n",
        "print(accuracy_score)"
      ],
      "execution_count": null,
      "outputs": [
        {
          "output_type": "stream",
          "text": [
            "0.6943333333333334\n"
          ],
          "name": "stdout"
        }
      ]
    },
    {
      "cell_type": "code",
      "metadata": {
        "colab": {
          "base_uri": "https://localhost:8080/"
        },
        "id": "lkYuW6sG1spo",
        "outputId": "24086204-c0f5-4027-f1d0-733d44032c80"
      },
      "source": [
        "print(classification_report(pred, Y_test))"
      ],
      "execution_count": null,
      "outputs": [
        {
          "output_type": "stream",
          "text": [
            "              precision    recall  f1-score   support\n",
            "\n",
            "          -2       0.03      0.67      0.06         3\n",
            "          -1       0.92      0.65      0.76      1511\n",
            "           0       0.65      0.70      0.67       787\n",
            "           1       0.53      0.73      0.61       452\n",
            "           2       0.55      0.86      0.68       247\n",
            "\n",
            "    accuracy                           0.69      3000\n",
            "   macro avg       0.54      0.72      0.56      3000\n",
            "weighted avg       0.76      0.69      0.71      3000\n",
            "\n"
          ],
          "name": "stdout"
        }
      ]
    },
    {
      "cell_type": "markdown",
      "metadata": {
        "id": "pVx5qxByGUcb"
      },
      "source": [
        "# Decision Tree"
      ]
    },
    {
      "cell_type": "code",
      "metadata": {
        "colab": {
          "base_uri": "https://localhost:8080/"
        },
        "id": "XlSaggjH9fhc",
        "outputId": "eac95167-1068-4307-fbde-fac7681a992e"
      },
      "source": [
        "from sklearn.tree import DecisionTreeClassifier \n",
        "\n",
        "regressor = DecisionTreeClassifier(random_state = 3)\n",
        "regressor.fit(X_train, Y_train) "
      ],
      "execution_count": null,
      "outputs": [
        {
          "output_type": "execute_result",
          "data": {
            "text/plain": [
              "DecisionTreeClassifier(ccp_alpha=0.0, class_weight=None, criterion='gini',\n",
              "                       max_depth=None, max_features=None, max_leaf_nodes=None,\n",
              "                       min_impurity_decrease=0.0, min_impurity_split=None,\n",
              "                       min_samples_leaf=1, min_samples_split=2,\n",
              "                       min_weight_fraction_leaf=0.0, presort='deprecated',\n",
              "                       random_state=3, splitter='best')"
            ]
          },
          "metadata": {
            "tags": []
          },
          "execution_count": 29
        }
      ]
    },
    {
      "cell_type": "code",
      "metadata": {
        "colab": {
          "base_uri": "https://localhost:8080/"
        },
        "id": "VA029XTyr1bK",
        "outputId": "b73ef775-aff1-4d33-9e20-69b6a36bec2a"
      },
      "source": [
        "pred = regressor.predict(X_test)\n",
        "accuracy_score = metrics.accuracy_score(pred, Y_test)\n",
        "print(accuracy_score)"
      ],
      "execution_count": null,
      "outputs": [
        {
          "output_type": "stream",
          "text": [
            "0.8423333333333334\n"
          ],
          "name": "stdout"
        }
      ]
    },
    {
      "cell_type": "code",
      "metadata": {
        "colab": {
          "base_uri": "https://localhost:8080/"
        },
        "id": "FRPIKJ1xtf9R",
        "outputId": "231496f0-d8cb-42d8-9829-a99450a8279e"
      },
      "source": [
        "print(classification_report(pred, Y_test))"
      ],
      "execution_count": null,
      "outputs": [
        {
          "output_type": "stream",
          "text": [
            "              precision    recall  f1-score   support\n",
            "\n",
            "          -2       0.65      0.56      0.60        78\n",
            "          -1       0.89      0.92      0.90      1042\n",
            "           0       0.93      0.84      0.88       947\n",
            "           1       0.71      0.78      0.74       570\n",
            "           2       0.76      0.81      0.78       363\n",
            "\n",
            "    accuracy                           0.84      3000\n",
            "   macro avg       0.79      0.78      0.78      3000\n",
            "weighted avg       0.85      0.84      0.84      3000\n",
            "\n"
          ],
          "name": "stdout"
        }
      ]
    },
    {
      "cell_type": "markdown",
      "metadata": {
        "id": "jTiHiBxqGsPe"
      },
      "source": [
        "# Random Forest"
      ]
    },
    {
      "cell_type": "code",
      "metadata": {
        "id": "4eLzHvxGtqhD"
      },
      "source": [
        "from sklearn.ensemble import RandomForestClassifier"
      ],
      "execution_count": null,
      "outputs": []
    },
    {
      "cell_type": "code",
      "metadata": {
        "id": "tgCmsfn7HGKQ"
      },
      "source": [
        "rfc = RandomForestClassifier(n_estimators= 300)"
      ],
      "execution_count": null,
      "outputs": []
    },
    {
      "cell_type": "code",
      "metadata": {
        "colab": {
          "base_uri": "https://localhost:8080/"
        },
        "id": "ED7s25BzHL6K",
        "outputId": "d0c627cf-74b8-463f-f943-7674552d51fe"
      },
      "source": [
        "rfc.fit(X_train, Y_train)"
      ],
      "execution_count": null,
      "outputs": [
        {
          "output_type": "execute_result",
          "data": {
            "text/plain": [
              "RandomForestClassifier(bootstrap=True, ccp_alpha=0.0, class_weight=None,\n",
              "                       criterion='gini', max_depth=None, max_features='auto',\n",
              "                       max_leaf_nodes=None, max_samples=None,\n",
              "                       min_impurity_decrease=0.0, min_impurity_split=None,\n",
              "                       min_samples_leaf=1, min_samples_split=2,\n",
              "                       min_weight_fraction_leaf=0.0, n_estimators=300,\n",
              "                       n_jobs=None, oob_score=False, random_state=None,\n",
              "                       verbose=0, warm_start=False)"
            ]
          },
          "metadata": {
            "tags": []
          },
          "execution_count": 35
        }
      ]
    },
    {
      "cell_type": "code",
      "metadata": {
        "id": "LNCvn6jSHS-n"
      },
      "source": [
        "pred = rfc.predict(X_test)"
      ],
      "execution_count": null,
      "outputs": []
    },
    {
      "cell_type": "code",
      "metadata": {
        "colab": {
          "base_uri": "https://localhost:8080/"
        },
        "id": "3lztOLvoHcIB",
        "outputId": "adcac830-0f77-40a7-d400-3e17bf0cd1ef"
      },
      "source": [
        "accuracy_score = metrics.accuracy_score(pred, Y_test)\n",
        "print(accuracy_score)"
      ],
      "execution_count": null,
      "outputs": [
        {
          "output_type": "stream",
          "text": [
            "0.8486666666666667\n"
          ],
          "name": "stdout"
        }
      ]
    },
    {
      "cell_type": "code",
      "metadata": {
        "colab": {
          "base_uri": "https://localhost:8080/"
        },
        "id": "TOU3JlJ7Hp_p",
        "outputId": "ddde2441-31a4-4553-febe-8e7cd187c1e9"
      },
      "source": [
        "print(classification_report(pred, Y_test))"
      ],
      "execution_count": null,
      "outputs": [
        {
          "output_type": "stream",
          "text": [
            "              precision    recall  f1-score   support\n",
            "\n",
            "          -2       0.43      0.66      0.52        44\n",
            "          -1       0.90      0.91      0.90      1050\n",
            "           0       0.97      0.79      0.87      1047\n",
            "           1       0.65      0.89      0.75       462\n",
            "           2       0.85      0.82      0.83       397\n",
            "\n",
            "    accuracy                           0.85      3000\n",
            "   macro avg       0.76      0.81      0.78      3000\n",
            "weighted avg       0.87      0.85      0.85      3000\n",
            "\n"
          ],
          "name": "stdout"
        }
      ]
    },
    {
      "cell_type": "markdown",
      "metadata": {
        "id": "hlFWIAWQH8Dy"
      },
      "source": [
        "# SVM"
      ]
    },
    {
      "cell_type": "code",
      "metadata": {
        "id": "TCZt6VwAH2Pa"
      },
      "source": [
        "from sklearn.model_selection import GridSearchCV\n",
        "from sklearn.svm import SVC"
      ],
      "execution_count": null,
      "outputs": []
    },
    {
      "cell_type": "code",
      "metadata": {
        "id": "ZQTqtZEvIinV"
      },
      "source": [
        "param_grid = {'C' : [0.1,1,10,100,1000],\n",
        "              'gamma' : [1 ,0.1,0.01, 0.001,0.0001]}"
      ],
      "execution_count": null,
      "outputs": []
    },
    {
      "cell_type": "code",
      "metadata": {
        "id": "EGWOcvOTJFu2"
      },
      "source": [
        "grid = GridSearchCV(SVC() , param_grid, verbose = 3)"
      ],
      "execution_count": null,
      "outputs": []
    },
    {
      "cell_type": "code",
      "metadata": {
        "id": "CrGHZeibJRG4"
      },
      "source": [
        "grid.fit(X_train , Y_train)"
      ],
      "execution_count": null,
      "outputs": []
    },
    {
      "cell_type": "code",
      "metadata": {
        "id": "zzFg4kw0JVHr",
        "colab": {
          "base_uri": "https://localhost:8080/"
        },
        "outputId": "4944026a-0043-4ebc-d84b-e367157159ef"
      },
      "source": [
        "pred = grid.predict(X_test)\n",
        "accuracy_score = metrics.accuracy_score(pred, Y_test)\n",
        "print(accuracy_score)"
      ],
      "execution_count": null,
      "outputs": [
        {
          "output_type": "stream",
          "text": [
            "0.866\n"
          ],
          "name": "stdout"
        }
      ]
    },
    {
      "cell_type": "code",
      "metadata": {
        "colab": {
          "base_uri": "https://localhost:8080/"
        },
        "id": "A6K-JtbiJvxo",
        "outputId": "4d98bacb-d3b1-4492-be61-5f072c5aae2b"
      },
      "source": [
        "print(classification_report(pred, Y_test))"
      ],
      "execution_count": null,
      "outputs": [
        {
          "output_type": "stream",
          "text": [
            "              precision    recall  f1-score   support\n",
            "\n",
            "          -2       0.62      0.66      0.64        64\n",
            "          -1       0.92      0.91      0.92      1076\n",
            "           0       0.96      0.84      0.89       971\n",
            "           1       0.72      0.86      0.78       534\n",
            "           2       0.79      0.85      0.82       355\n",
            "\n",
            "    accuracy                           0.87      3000\n",
            "   macro avg       0.80      0.82      0.81      3000\n",
            "weighted avg       0.88      0.87      0.87      3000\n",
            "\n"
          ],
          "name": "stdout"
        }
      ]
    },
    {
      "cell_type": "code",
      "metadata": {
        "colab": {
          "base_uri": "https://localhost:8080/"
        },
        "id": "5jx8vsOYMH2E",
        "outputId": "012c8d67-543b-4e97-97c1-ee28804ac2be"
      },
      "source": [
        "grid.best_params_"
      ],
      "execution_count": null,
      "outputs": [
        {
          "output_type": "execute_result",
          "data": {
            "text/plain": [
              "{'C': 1000, 'gamma': 0.001}"
            ]
          },
          "metadata": {
            "tags": []
          },
          "execution_count": 46
        }
      ]
    },
    {
      "cell_type": "markdown",
      "metadata": {
        "id": "j7Q0XYUVm8_D"
      },
      "source": [
        "# Multinomial Logistic Regression"
      ]
    },
    {
      "cell_type": "code",
      "metadata": {
        "id": "FUdUulQanEZO"
      },
      "source": [
        "from sklearn.linear_model import LogisticRegression"
      ],
      "execution_count": null,
      "outputs": []
    },
    {
      "cell_type": "code",
      "metadata": {
        "id": "HcIf0aIeoAax"
      },
      "source": [
        "mlr = LogisticRegression()"
      ],
      "execution_count": null,
      "outputs": []
    },
    {
      "cell_type": "code",
      "metadata": {
        "colab": {
          "base_uri": "https://localhost:8080/"
        },
        "id": "_n9GJL8eoE9r",
        "outputId": "0a10980e-15ff-444c-996c-2ce81de38b2e"
      },
      "source": [
        "mlr.fit(X_train, Y_train)"
      ],
      "execution_count": null,
      "outputs": [
        {
          "output_type": "execute_result",
          "data": {
            "text/plain": [
              "LogisticRegression(C=1.0, class_weight=None, dual=False, fit_intercept=True,\n",
              "                   intercept_scaling=1, l1_ratio=None, max_iter=100,\n",
              "                   multi_class='auto', n_jobs=None, penalty='l2',\n",
              "                   random_state=None, solver='lbfgs', tol=0.0001, verbose=0,\n",
              "                   warm_start=False)"
            ]
          },
          "metadata": {
            "tags": []
          },
          "execution_count": 49
        }
      ]
    },
    {
      "cell_type": "code",
      "metadata": {
        "id": "DciHQp-uoInq"
      },
      "source": [
        "pred = mlr.predict(X_test)"
      ],
      "execution_count": null,
      "outputs": []
    },
    {
      "cell_type": "code",
      "metadata": {
        "colab": {
          "base_uri": "https://localhost:8080/"
        },
        "id": "xEiq3OSLoULz",
        "outputId": "3b60477d-d09a-42b5-87ce-6a222855c132"
      },
      "source": [
        "accuracy_score = metrics.accuracy_score(pred, Y_test)\n",
        "print(accuracy_score)"
      ],
      "execution_count": null,
      "outputs": [
        {
          "output_type": "stream",
          "text": [
            "0.818\n"
          ],
          "name": "stdout"
        }
      ]
    },
    {
      "cell_type": "code",
      "metadata": {
        "colab": {
          "base_uri": "https://localhost:8080/"
        },
        "id": "LAFtvUOhoXzO",
        "outputId": "4f21141d-41aa-41c8-812a-116be10bec0f"
      },
      "source": [
        "print(classification_report(pred, Y_test))"
      ],
      "execution_count": null,
      "outputs": [
        {
          "output_type": "stream",
          "text": [
            "              precision    recall  f1-score   support\n",
            "\n",
            "          -2       0.25      0.74      0.37        23\n",
            "          -1       0.90      0.88      0.89      1101\n",
            "           0       0.96      0.76      0.84      1078\n",
            "           1       0.63      0.82      0.71       490\n",
            "           2       0.67      0.84      0.75       308\n",
            "\n",
            "    accuracy                           0.82      3000\n",
            "   macro avg       0.68      0.80      0.71      3000\n",
            "weighted avg       0.85      0.82      0.83      3000\n",
            "\n"
          ],
          "name": "stdout"
        }
      ]
    }
  ]
}